{
 "cells": [
  {
   "cell_type": "code",
   "execution_count": 1,
   "metadata": {},
   "outputs": [],
   "source": [
    "from sunpy.util import scraper\n",
    "from sunpy.time import TimeRange, parse_time\n",
    "import pandas as pd\n",
    "import urllib\n",
    "import matplotlib.pyplot as plt\n",
    "from matplotlib import dates\n",
    "import os"
   ]
  },
  {
   "cell_type": "markdown",
   "metadata": {},
   "source": [
    "## Get the VLF data for transmitter of choice"
   ]
  },
  {
   "cell_type": "code",
   "execution_count": 5,
   "metadata": {},
   "outputs": [
    {
     "name": "stdout",
     "output_type": "stream",
     "text": [
      "['https://vlf.ap.dias.ie/data/Dunsink_DHO38_2020-10-29_000000.csv']\n"
     ]
    }
   ],
   "source": [
    "vlf_pattern = \"https://vlf.ap.dias.ie/data/Dunsink_{transmitter}_%Y-%m-%d_000000.csv\"\n",
    "vlf_scraper = scraper.Scraper(vlf_pattern, transmitter=\"DHO38\")\n",
    "files = vlf_scraper.filelist(TimeRange(\"2020-10-29\", \"2020-10-29\"))\n",
    "print(files)"
   ]
  },
  {
   "cell_type": "code",
   "execution_count": 6,
   "metadata": {},
   "outputs": [],
   "source": [
    "# check if the file is already downloaded, and if not download\n",
    "if not os.path.exists(files[0].split('/')[-1]):\n",
    "    urllib.request.urlretrieve(files[0], files[0].split('/')[-1])"
   ]
  },
  {
   "cell_type": "code",
   "execution_count": 7,
   "metadata": {},
   "outputs": [],
   "source": [
    "def read_vlf_data(file):\n",
    "    \"\"\"\n",
    "    Read VLF csv files and return a pandas Series\n",
    "    \"\"\"\n",
    "    aa = pd.read_csv(file, comment=\"#\", names=[\"date\", \"data\"])\n",
    "    sid = pd.Series(aa[\"data\"].values, index=pd.to_datetime(aa[\"date\"]))\n",
    "    return sid\n",
    "\n",
    "sid = read_vlf_data(files[0].split('/')[-1])"
   ]
  },
  {
   "cell_type": "code",
   "execution_count": 10,
   "metadata": {},
   "outputs": [],
   "source": [
    "def get_recent_goes():\n",
    "    \"\"\"\n",
    "    Pull the most recent GOES X-ray data from the NOAA page\n",
    "    \n",
    "    Returns the GOES short and long channels as pandas series\n",
    "    \"\"\"\n",
    "    data = pd.read_json(\"https://services.swpc.noaa.gov/json/goes/primary/xrays-7-day.json\")\n",
    "    data_short = data[data[\"energy\"]==\"0.05-0.4nm\"]\n",
    "    data_long = data[data[\"energy\"]==\"0.1-0.8nm\"]\n",
    "    time_array = [parse_time(x).datetime for x in data_short['time_tag'].values]\n",
    "\n",
    "    gl = pd.Series(data_long[\"flux\"].values, index=time_array)\n",
    "    gs = pd.Series(data_short[\"flux\"].values, index=time_array)\n",
    "    return gl, gs\n",
    "\n",
    "gl, gs = get_recent_goes()"
   ]
  },
  {
   "cell_type": "markdown",
   "metadata": {},
   "source": [
    "## Make specific plots"
   ]
  },
  {
   "cell_type": "code",
   "execution_count": 12,
   "metadata": {},
   "outputs": [],
   "source": [
    "tstart = \"2020-10-29 09:00\"\n",
    "tend = \"2020-10-29 14:50\""
   ]
  },
  {
   "cell_type": "code",
   "execution_count": 13,
   "metadata": {
    "scrolled": true
   },
   "outputs": [],
   "source": [
    "fig, ax = plt.subplots(2, sharex=True, figsize=(9, 6))\n",
    "\n",
    "# plot the VLF data\n",
    "ax[0].plot(sid.truncate(tstart, tend), label=\"DHO38\", color=\"k\")\n",
    "ax[0].xaxis.set_major_formatter(dates.DateFormatter(\"%H:%M\"))\n",
    "ax[0].legend()\n",
    "\n",
    "# plot the GOES data\n",
    "ax[1].plot(gl.truncate(tstart, tend), color='r')\n",
    "ax[1].plot(gs.truncate(tstart, tend), color='b')\n",
    "ax[1].set_yscale(\"log\")\n",
    "\n",
    "for a in ax:\n",
    "    a.axvline(\"2020-10-29 11:50\", color=\"grey\", ls=\"dashed\")\n",
    "    a.axvline(\"2020-10-29 13:20\", color=\"grey\", ls=\"dashed\")\n",
    "    a.tick_params(which=\"both\", direction=\"in\")\n",
    "\n",
    "ax[0].set_ylabel(\"VLF signal strength\")\n",
    "ax[1].set_ylabel(\"Flux Wm$^{-2}$\")\n",
    "ax[1].set_xlabel(\"Time 2020-10-29\")\n",
    "\n",
    "ax[1].set_xlim(tstart, tend)\n",
    "ax[1].xaxis.set_major_formatter(dates.DateFormatter(\"%H:%M\"))\n",
    "\n",
    "plt.tight_layout()\n",
    "plt.subplots_adjust(hspace=0.01)\n",
    "\n",
    "plt.savefig(\"DHO_flare_29102020.jpeg\", dpi=200)\n",
    "plt.close()"
   ]
  },
  {
   "cell_type": "code",
   "execution_count": null,
   "metadata": {},
   "outputs": [],
   "source": []
  }
 ],
 "metadata": {
  "kernelspec": {
   "display_name": "Python 3",
   "language": "python",
   "name": "python3"
  },
  "language_info": {
   "codemirror_mode": {
    "name": "ipython",
    "version": 3
   },
   "file_extension": ".py",
   "mimetype": "text/x-python",
   "name": "python",
   "nbconvert_exporter": "python",
   "pygments_lexer": "ipython3",
   "version": "3.7.7"
  }
 },
 "nbformat": 4,
 "nbformat_minor": 4
}

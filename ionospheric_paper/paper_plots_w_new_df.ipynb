{
 "cells": [
  {
   "cell_type": "code",
   "execution_count": 1,
   "id": "80bcaf71",
   "metadata": {},
   "outputs": [],
   "source": [
    "import pandas as pd \n",
    "import numpy as np \n",
    "import matplotlib.pyplot as plt \n",
    "from matplotlib import dates, colors\n",
    "from matplotlib.ticker import ScalarFormatter\n",
    "import scipy.stats\n",
    "import datetime\n",
    "\n",
    "from astropy.visualization import hist\n",
    "# import seaborn as sns\n",
    "# sns.set_context(\"paper\")\n",
    "# plt.rcParams['xtick.direction'] = \"in\"\n",
    "# plt.rcParams['ytick.direction'] = \"in\"\n",
    "# plt.rcParams['xtick.minor.visible'] = True\n",
    "# plt.rcParams['ytick.minor.visible'] = True\n",
    "# plt.rcParams['font.family'] = 'Helvetica'\n",
    "# cmap_paper = \"viridis\""
   ]
  },
  {
   "cell_type": "code",
   "execution_count": null,
   "id": "20628bbd",
   "metadata": {},
   "outputs": [],
   "source": [
    "cmap_paper = \"viridis\""
   ]
  },
  {
   "cell_type": "code",
   "execution_count": null,
   "id": "09665110",
   "metadata": {},
   "outputs": [],
   "source": [
    "vlf_stats = pd.read_csv(\"vlf_stats_results_new.csv\")"
   ]
  },
  {
   "cell_type": "code",
   "execution_count": null,
   "id": "5867df46",
   "metadata": {},
   "outputs": [],
   "source": [
    "vlf_flares.drop(np.where(vlf_flares[\"event_starttime\"].isin(events_to_remove))[0], inplace=True)"
   ]
  },
  {
   "cell_type": "code",
   "execution_count": null,
   "id": "3307f05a",
   "metadata": {},
   "outputs": [],
   "source": [
    "vlf_stats.drop(np.where(vlf_stats[\"start_time_goes\"].isin([\"2017-04-02 07:50:00\"]))[0], inplace=True)"
   ]
  },
  {
   "cell_type": "code",
   "execution_count": null,
   "id": "9a4e3c61",
   "metadata": {},
   "outputs": [],
   "source": [
    "vlf_stats.keys()"
   ]
  },
  {
   "cell_type": "markdown",
   "id": "b714573b",
   "metadata": {},
   "source": [
    "## Make plots!"
   ]
  },
  {
   "cell_type": "code",
   "execution_count": null,
   "id": "87060382",
   "metadata": {},
   "outputs": [],
   "source": [
    "fig, ax = plt.subplots()\n",
    "im = ax.scatter(vlf_stats[\"peak_flare_gl-bg\"], vlf_stats[\"abs_vlf_db\"], \n",
    "                c=vlf_stats[\"peak_flare_gl\"], norm=colors.LogNorm(), \n",
    "                cmap=cmap_paper)\n",
    "ax.set_xscale(\"log\")\n",
    "ax.set_yscale(\"log\")\n",
    "\n",
    "ax.set_xlabel(\"GOES 1-8$\\mathrm{\\AA}$ X-ray peak (Wm$^{-2}$)\")\n",
    "ax.set_ylabel(\"VLF amplitude excess (dB)\")\n",
    "\n",
    "ax.yaxis.set_major_formatter(ScalarFormatter())\n",
    "# cbar = plt.colorbar(im)\n",
    "# cbar.set_label(\"GOES 1-8$\\mathrm{\\AA}$ X-ray peak (Wm$^{-2}$)\")\n",
    "cc = scipy.stats.spearmanr(vlf_stats[\"peak_flare_gl-bg\"], vlf_stats[\"abs_vlf_db\"])\n",
    "print(cc)\n",
    "ax.text(0.85, 0.06, \"C.C. {:.2f}\".format(round(cc.correlation, 2)), transform=ax.transAxes)"
   ]
  },
  {
   "cell_type": "code",
   "execution_count": null,
   "id": "fab9f06c",
   "metadata": {},
   "outputs": [],
   "source": [
    "fig, ax = plt.subplots()\n",
    "im = ax.scatter(vlf_stats[\"peak_flare_gs-bg\"], vlf_stats[\"abs_vlf_db\"], \n",
    "                c=vlf_stats[\"peak_flare_gl\"], norm=colors.LogNorm(), \n",
    "                cmap=cmap_paper)\n",
    "ax.set_xscale(\"log\")\n",
    "ax.set_yscale(\"log\")\n",
    "\n",
    "ax.set_xlabel(\"GOES 0.5-4$\\mathrm{\\AA}$ X-ray peak (Wm$^{-2}$)\")\n",
    "ax.set_ylabel(\"VLF amplitude excess (dB)\")\n",
    "\n",
    "ax.yaxis.set_major_formatter(ScalarFormatter())\n",
    "# cbar = plt.colorbar(im)\n",
    "# cbar.set_label(\"GOES 0.5-4$\\mathrm{\\AA}$ X-ray peak (Wm$^{-2}$)\")\n",
    "cc = scipy.stats.spearmanr(vlf_stats[\"peak_flare_gs-bg\"], vlf_stats[\"abs_vlf_db\"])\n",
    "print(cc)\n",
    "ax.text(0.85, 0.06, \"C.C. {:.2f}\".format(round(cc.correlation, 2)), transform=ax.transAxes)"
   ]
  },
  {
   "cell_type": "code",
   "execution_count": 2,
   "id": "3e50a428",
   "metadata": {},
   "outputs": [],
   "source": [
    "from sunpy import timeseries as ts\n",
    "goes = ts.TimeSeries(\"/Users/laurahayes/QPP/stats_study/TEBBS/goes_rawdata/go1320160514.fits\")\n",
    "gl = goes.to_dataframe()[\"xrsb\"]"
   ]
  },
  {
   "cell_type": "code",
   "execution_count": 5,
   "id": "beba2194",
   "metadata": {},
   "outputs": [
    {
     "data": {
      "image/png": "[encoded data removed]",
      "text/plain": [
       "<Figure size 432x288 with 1 Axes>"
      ]
     },
     "metadata": {
      "needs_background": "light"
     },
     "output_type": "display_data"
    }
   ],
   "source": [
    "plt.plot(gl, color=\"r\")\n",
    "plt.yscale(\"log\")\n",
    "ax = plt.gca()\n",
    "ax.set_ylabel(\"Flux (Watts m$^{-2}$)\")\n",
    "ax.xaxis.set_major_formatter(dates.DateFormatter(\"%H:%M\"))"
   ]
  },
  {
   "cell_type": "markdown",
   "id": "19e0fdde",
   "metadata": {},
   "source": [
    "### Background plots"
   ]
  },
  {
   "cell_type": "code",
   "execution_count": null,
   "id": "75e87d72",
   "metadata": {},
   "outputs": [],
   "source": [
    "\n",
    "fig, ax = plt.subplots(figsize=(8, 5))\n",
    "plt.scatter(pd.to_datetime(vlf_stats[\"start_time_goes\"]), vlf_stats[\"background_sid_db\"], \n",
    "            c=vlf_stats[\"max_vlf_db\"])"
   ]
  },
  {
   "cell_type": "code",
   "execution_count": null,
   "id": "518a3c34",
   "metadata": {},
   "outputs": [],
   "source": [
    "fig, ax = plt.subplots()\n",
    "plt.scatter(vlf_stats[\"background_sid_db\"], vlf_stats[\"abs_vlf_db\"], \n",
    "            c=vlf_stats[\"peak_flare_gl\"], norm=colors.LogNorm())\n",
    "plt.xlabel(\"Background VLF\")\n",
    "plt.ylabel(\"Abs VLF amp\")\n",
    "plt.yscale(\"log\")"
   ]
  },
  {
   "cell_type": "markdown",
   "id": "ca6cf51d",
   "metadata": {},
   "source": [
    "## Time Delay"
   ]
  },
  {
   "cell_type": "code",
   "execution_count": null,
   "id": "5ef36520",
   "metadata": {},
   "outputs": [],
   "source": [
    "fig, ax = plt.subplots()\n",
    "ax.scatter(vlf_stats[\"peak_flare_gl\"], vlf_stats[\"dt_value_gl\"]/60, alpha=0.5, color=\"r\")\n",
    "ax.scatter(vlf_stats[\"peak_flare_gl\"], vlf_stats[\"dt_value_gs\"]/60, alpha=0.5, color=\"b\")\n",
    "ax.axhline(0)\n",
    "ax.set_xscale(\"log\")\n",
    "ax.set_ylim(-10, 20)"
   ]
  },
  {
   "cell_type": "code",
   "execution_count": null,
   "id": "d1d36a8b",
   "metadata": {},
   "outputs": [],
   "source": [
    "vlf_stats[vlf_stats[\"dt_value_gs\"]<0][[\"start_time_goes\", \"dt_value_gs\", \"goes_class\"]]"
   ]
  },
  {
   "cell_type": "code",
   "execution_count": null,
   "id": "89b39953",
   "metadata": {},
   "outputs": [],
   "source": [
    "fig, ax = plt.subplots()\n",
    "_, bins, _ = hist(vlf_stats[\"dt_value_gl\"]/60, bins=40, alpha=0.5, color=\"r\", label=\"1-8$\\mathrm{\\AA}$\")\n",
    "_ = hist(vlf_stats[\"dt_value_gs\"]/60, bins=bins, alpha=0.5, color=\"b\", label=\"0.5-4$\\mathrm{\\AA}$\")\n",
    "plt.axvline(0, color=\"k\")\n",
    "ax.tick_params(axis=\"y\", direction=\"in\")\n",
    "ax.set_ylabel(\"Number of events\")\n",
    "ax.set_xlabel(\"Time delay (min)\")\n",
    "ax.legend()"
   ]
  },
  {
   "cell_type": "code",
   "execution_count": null,
   "id": "91902c98",
   "metadata": {},
   "outputs": [],
   "source": [
    "print(scipy.stats.spearmanr(vlf_stats[\"peak_flare_gl\"], vlf_stats[\"dt_value_gl\"]))\n",
    "print(scipy.stats.spearmanr(vlf_stats[\"peak_flare_gs\"], vlf_stats[\"dt_value_gs\"]))"
   ]
  },
  {
   "cell_type": "code",
   "execution_count": null,
   "id": "6016f68b",
   "metadata": {},
   "outputs": [],
   "source": []
  }
 ],
 "metadata": {
  "kernelspec": {
   "display_name": "Python 3",
   "language": "python",
   "name": "python3"
  },
  "language_info": {
   "codemirror_mode": {
    "name": "ipython",
    "version": 3
   },
   "file_extension": ".py",
   "mimetype": "text/x-python",
   "name": "python",
   "nbconvert_exporter": "python",
   "pygments_lexer": "ipython3",
   "version": "3.9.4"
  }
 },
 "nbformat": 4,
 "nbformat_minor": 5
}
